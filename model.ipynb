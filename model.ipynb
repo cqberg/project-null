{
 "cells": [
  {
   "cell_type": "code",
   "execution_count": null,
   "id": "9dd66d24",
   "metadata": {},
   "outputs": [],
   "source": [
    "import numpy as np\n",
    "import pandas as pd\n",
    "import matplotlib.pyplot as plt\n",
    "import seaborn as sns\n",
    "import warnings\n",
    "warnings.filterwarnings(\"ignore\")"
   ]
  },
  {
   "cell_type": "code",
   "execution_count": null,
   "id": "f274bf3b",
   "metadata": {},
   "outputs": [],
   "source": [
    "# Specify file directory\n",
    "# Store the filepaths of each image in a series\n",
    "# Store "
   ]
  }
 ],
 "metadata": {
  "kernelspec": {
   "display_name": ".venv",
   "language": "python",
   "name": "python3"
  },
  "language_info": {
   "name": "python",
   "version": "3.13.7"
  }
 },
 "nbformat": 4,
 "nbformat_minor": 5
}
