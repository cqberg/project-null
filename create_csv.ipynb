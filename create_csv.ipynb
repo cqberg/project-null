{
 "cells": [
  {
   "cell_type": "code",
   "execution_count": 66,
   "id": "1a8bb810",
   "metadata": {},
   "outputs": [],
   "source": [
    "from pathlib import Path\n",
    "import os\n",
    "import pandas as pd"
   ]
  },
  {
   "cell_type": "code",
   "execution_count": 67,
   "id": "7905684f",
   "metadata": {},
   "outputs": [],
   "source": [
    "# Specify file directory\n",
    "# Get and store the filepaths of each image in a series\n",
    "# Get and store the name of the file directory in a series to be used as the age\n",
    "# Create the csv with filepath and age header\n",
    "\n",
    "file_dir = Path(\"face_age\")\n",
    "\n",
    "def create_csv(file_dir):\n",
    "    dirs = os.listdir(file_dir)\n",
    "\n",
    "    paths = []\n",
    "    ages = []\n",
    "    for i in dirs:\n",
    "        path = os.path.join(file_dir, i)\n",
    "        \n",
    "        for j in os.listdir(path):\n",
    "            #print(os.path.join(path, j))\n",
    "            paths.append(os.path.join(path,j).replace(\"\\\\\", \"/\"))\n",
    "            ages.append(int(os.path.split(path)[1]))\n",
    "\n",
    "    filepaths = pd.Series(paths, name=\"filepath\").astype(str)\n",
    "    age = pd.Series(ages, name=\"age\")\n",
    "\n",
    "    df = pd.concat([filepaths, age], axis=1).sample(frac=1, random_state=1).reset_index(drop=True)\n",
    "    \n",
    "    df.to_csv(\"images.csv\", index=False)\n",
    "\n",
    "\n",
    "create_csv(file_dir)"
   ]
  }
 ],
 "metadata": {
  "kernelspec": {
   "display_name": ".venv",
   "language": "python",
   "name": "python3"
  },
  "language_info": {
   "codemirror_mode": {
    "name": "ipython",
    "version": 3
   },
   "file_extension": ".py",
   "mimetype": "text/x-python",
   "name": "python",
   "nbconvert_exporter": "python",
   "pygments_lexer": "ipython3",
   "version": "3.13.7"
  }
 },
 "nbformat": 4,
 "nbformat_minor": 5
}
